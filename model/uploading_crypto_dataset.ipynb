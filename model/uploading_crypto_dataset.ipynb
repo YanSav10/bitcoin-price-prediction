{
  "nbformat": 4,
  "nbformat_minor": 0,
  "metadata": {
    "colab": {
      "provenance": []
    },
    "kernelspec": {
      "name": "python3",
      "display_name": "Python 3"
    },
    "language_info": {
      "name": "python"
    }
  },
  "cells": [
    {
      "cell_type": "code",
      "execution_count": null,
      "metadata": {
        "id": "xJtecbvSIUqY",
        "outputId": "c874308b-ddb9-4cf4-af60-cd13ba8bebc0",
        "colab": {
          "base_uri": "https://localhost:8080/"
        }
      },
      "outputs": [
        {
          "output_type": "stream",
          "name": "stdout",
          "text": [
            "Drive already mounted at /content/drive; to attempt to forcibly remount, call drive.mount(\"/content/drive\", force_remount=True).\n",
            "                   timestamp      open      high       low     close  \\\n",
            "0        2023-08-01 13:19:00  28902.48  28902.49  28902.48  28902.49   \n",
            "1        2023-08-01 13:18:00  28902.48  28902.49  28902.48  28902.49   \n",
            "2        2023-08-01 13:17:00  28908.52  28908.53  28902.48  28902.49   \n",
            "3        2023-08-01 13:16:00  28907.41  28912.74  28907.41  28908.53   \n",
            "4        2023-08-01 13:15:00  28896.00  28907.42  28893.03  28907.41   \n",
            "...                      ...       ...       ...       ...       ...   \n",
            "3125995  2017-08-17 04:04:00   4261.48   4261.48   4261.48   4261.48   \n",
            "3125996  2017-08-17 04:03:00   4261.48   4261.48   4261.48   4261.48   \n",
            "3125997  2017-08-17 04:02:00   4280.56   4280.56   4280.56   4280.56   \n",
            "3125998  2017-08-17 04:01:00   4261.48   4261.48   4261.48   4261.48   \n",
            "3125999  2017-08-17 04:00:00   4261.48   4261.48   4261.48   4261.48   \n",
            "\n",
            "            volume  quote_asset_volume  number_of_trades  \\\n",
            "0         4.686580        1.354538e+05               258   \n",
            "1         4.775890        1.380351e+05               317   \n",
            "2        11.522630        3.330532e+05               451   \n",
            "3        15.896100        4.595556e+05               483   \n",
            "4        37.746570        1.090761e+06               686   \n",
            "...            ...                 ...               ...   \n",
            "3125995   0.140796        5.999993e+02                 1   \n",
            "3125996   0.012008        5.117185e+01                 3   \n",
            "3125997   0.261074        1.117543e+03                 2   \n",
            "3125998   0.000000        0.000000e+00                 0   \n",
            "3125999   1.775183        7.564907e+03                 3   \n",
            "\n",
            "         taker_buy_base_asset_volume  taker_buy_quote_asset_volume  \n",
            "0                           0.893910                  25836.224836  \n",
            "1                           2.245460                  64899.385195  \n",
            "2                           2.708730                  78290.170121  \n",
            "3                          10.229810                 295738.166916  \n",
            "4                          16.504520                 476955.246611  \n",
            "...                              ...                           ...  \n",
            "3125995                     0.140796                    599.999338  \n",
            "3125996                     0.012008                     51.171852  \n",
            "3125997                     0.261074                   1117.542921  \n",
            "3125998                     0.000000                      0.000000  \n",
            "3125999                     0.075183                    320.390851  \n",
            "\n",
            "[3126000 rows x 10 columns]\n"
          ]
        }
      ],
      "source": [
        "from google.colab import drive\n",
        "import pandas as pd\n",
        "\n",
        "drive.mount('/content/drive')\n",
        "file_path = '/content/drive/My Drive/bitcoin_2017_to_2023.csv'\n",
        "\n",
        "df = pd.read_csv(file_path)\n",
        "print(df)"
      ]
    },
    {
      "cell_type": "code",
      "source": [
        "import pandas as pd\n",
        "from sqlalchemy import create_engine\n",
        "\n",
        "# Connection options to AWS RDS\n",
        "host = 'database-1.cz4mgsu4ipef.eu-north-1.rds.amazonaws.com'\n",
        "port = '5432'\n",
        "username = 'postgres'\n",
        "password = 's454084s'\n",
        "database = 'crypto_db'\n",
        "\n",
        "# Creating URL connection\n",
        "connection_url = f'postgresql+psycopg2://{username}:{password}@{host}:{port}/{database}'\n",
        "\n",
        "# Creation of thre SQLAlchemy engine\n",
        "engine = create_engine(connection_url)\n",
        "\n",
        "# Loading DataFrame to the specified table in the database\n",
        "df.to_sql('crypto', con=engine, if_exists='append', index=False)\n",
        "\n",
        "print(\"Data uploaded successfully!\")"
      ],
      "metadata": {
        "colab": {
          "base_uri": "https://localhost:8080/"
        },
        "id": "ELwvo4BBConF",
        "outputId": "f58f1c76-d829-40d2-ff67-0ce872c8edc8"
      },
      "execution_count": null,
      "outputs": [
        {
          "output_type": "stream",
          "name": "stdout",
          "text": [
            "Data uploaded successfully!\n"
          ]
        }
      ]
    }
  ]
}